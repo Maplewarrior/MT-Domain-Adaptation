{
 "cells": [
  {
   "cell_type": "markdown",
   "id": "a35cb748",
   "metadata": {},
   "source": [
    "## ...\n",
    "\n",
    "#### Dataset resources: \n",
    "##### OpenSubtitles: \n",
    "https://opus.nlpl.eu/OpenSubtitles-v2018.php\n"
   ]
  },
  {
   "cell_type": "code",
   "execution_count": 20,
   "id": "7d9c98f2",
   "metadata": {},
   "outputs": [],
   "source": [
    "import os \n",
    "import pandas as pd"
   ]
  },
  {
   "cell_type": "code",
   "execution_count": null,
   "id": "edef00c4",
   "metadata": {},
   "outputs": [],
   "source": [
    "os.getcwd()"
   ]
  },
  {
   "cell_type": "code",
   "execution_count": 18,
   "id": "3c946173",
   "metadata": {},
   "outputs": [],
   "source": [
    "da_path = os.path.join(os.getcwd() + '/data/OpenSubtitles.da-en.da')\n",
    "en_path = os.path.join(os.getcwd() + '/data/OpenSubtitles.da-en.en')\n",
    "\n",
    "# load data\n",
    "with open(da_path, encoding='utf-8') as data:\n",
    "  da_list = data.readlines()\n",
    "\n",
    "with open(en_path, encoding='utf-8') as data:\n",
    "  en_list = data.readlines()"
   ]
  },
  {
   "cell_type": "code",
   "execution_count": null,
   "id": "2679b48c",
   "metadata": {},
   "outputs": [],
   "source": [
    "df = pd.DataFrame([da_list, en_list], columns=['da', 'en'])"
   ]
  },
  {
   "cell_type": "code",
   "execution_count": null,
   "id": "74b1b430",
   "metadata": {},
   "outputs": [],
   "source": [
    "df.head()"
   ]
  }
 ],
 "metadata": {
  "kernelspec": {
   "display_name": "Python 3 (ipykernel)",
   "language": "python",
   "name": "python3"
  },
  "language_info": {
   "codemirror_mode": {
    "name": "ipython",
    "version": 3
   },
   "file_extension": ".py",
   "mimetype": "text/x-python",
   "name": "python",
   "nbconvert_exporter": "python",
   "pygments_lexer": "ipython3",
   "version": "3.8.13"
  }
 },
 "nbformat": 4,
 "nbformat_minor": 5
}
